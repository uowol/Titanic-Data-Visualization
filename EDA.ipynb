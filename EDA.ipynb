{
  "cells": [
    {
      "cell_type": "code",
      "execution_count": 1,
      "metadata": {
        "id": "S6Gb1eXl4dIK"
      },
      "outputs": [],
      "source": [
        "# Dataset : Titanic\n",
        "# Author : kcw\n",
        "# Date : 20231125\n",
        "# Tags : Data visualization, Python"
      ]
    },
    {
      "cell_type": "code",
      "execution_count": 2,
      "metadata": {
        "id": "PgFZxR0w5xnc"
      },
      "outputs": [],
      "source": [
        "import matplotlib.pyplot as plt\n",
        "import numpy as np\n",
        "import pandas as pd"
      ]
    },
    {
      "cell_type": "code",
      "execution_count": 85,
      "metadata": {
        "colab": {
          "base_uri": "https://localhost:8080/",
          "height": 359
        },
        "id": "n-WuOntf6DUY",
        "outputId": "31797ebc-93c6-416e-dcd8-fddd8c670a22"
      },
      "outputs": [
        {
          "data": {
            "text/html": [
              "<div>\n",
              "<style scoped>\n",
              "    .dataframe tbody tr th:only-of-type {\n",
              "        vertical-align: middle;\n",
              "    }\n",
              "\n",
              "    .dataframe tbody tr th {\n",
              "        vertical-align: top;\n",
              "    }\n",
              "\n",
              "    .dataframe thead th {\n",
              "        text-align: right;\n",
              "    }\n",
              "</style>\n",
              "<table border=\"1\" class=\"dataframe\">\n",
              "  <thead>\n",
              "    <tr style=\"text-align: right;\">\n",
              "      <th></th>\n",
              "      <th>PassengerId</th>\n",
              "      <th>Survived</th>\n",
              "      <th>Pclass</th>\n",
              "      <th>Name</th>\n",
              "      <th>Sex</th>\n",
              "      <th>Age</th>\n",
              "      <th>SibSp</th>\n",
              "      <th>Parch</th>\n",
              "      <th>Ticket</th>\n",
              "      <th>Fare</th>\n",
              "      <th>Cabin</th>\n",
              "      <th>Embarked</th>\n",
              "    </tr>\n",
              "  </thead>\n",
              "  <tbody>\n",
              "    <tr>\n",
              "      <th>184</th>\n",
              "      <td>185</td>\n",
              "      <td>1</td>\n",
              "      <td>3</td>\n",
              "      <td>Kink-Heilmann, Miss. Luise Gretchen</td>\n",
              "      <td>female</td>\n",
              "      <td>4.0</td>\n",
              "      <td>0</td>\n",
              "      <td>2</td>\n",
              "      <td>315153</td>\n",
              "      <td>22.0250</td>\n",
              "      <td>NaN</td>\n",
              "      <td>S</td>\n",
              "    </tr>\n",
              "    <tr>\n",
              "      <th>174</th>\n",
              "      <td>175</td>\n",
              "      <td>0</td>\n",
              "      <td>1</td>\n",
              "      <td>Smith, Mr. James Clinch</td>\n",
              "      <td>male</td>\n",
              "      <td>56.0</td>\n",
              "      <td>0</td>\n",
              "      <td>0</td>\n",
              "      <td>17764</td>\n",
              "      <td>30.6958</td>\n",
              "      <td>A7</td>\n",
              "      <td>C</td>\n",
              "    </tr>\n",
              "    <tr>\n",
              "      <th>77</th>\n",
              "      <td>78</td>\n",
              "      <td>0</td>\n",
              "      <td>3</td>\n",
              "      <td>Moutal, Mr. Rahamin Haim</td>\n",
              "      <td>male</td>\n",
              "      <td>NaN</td>\n",
              "      <td>0</td>\n",
              "      <td>0</td>\n",
              "      <td>374746</td>\n",
              "      <td>8.0500</td>\n",
              "      <td>NaN</td>\n",
              "      <td>S</td>\n",
              "    </tr>\n",
              "    <tr>\n",
              "      <th>590</th>\n",
              "      <td>591</td>\n",
              "      <td>0</td>\n",
              "      <td>3</td>\n",
              "      <td>Rintamaki, Mr. Matti</td>\n",
              "      <td>male</td>\n",
              "      <td>35.0</td>\n",
              "      <td>0</td>\n",
              "      <td>0</td>\n",
              "      <td>STON/O 2. 3101273</td>\n",
              "      <td>7.1250</td>\n",
              "      <td>NaN</td>\n",
              "      <td>S</td>\n",
              "    </tr>\n",
              "    <tr>\n",
              "      <th>207</th>\n",
              "      <td>208</td>\n",
              "      <td>1</td>\n",
              "      <td>3</td>\n",
              "      <td>Albimona, Mr. Nassef Cassem</td>\n",
              "      <td>male</td>\n",
              "      <td>26.0</td>\n",
              "      <td>0</td>\n",
              "      <td>0</td>\n",
              "      <td>2699</td>\n",
              "      <td>18.7875</td>\n",
              "      <td>NaN</td>\n",
              "      <td>C</td>\n",
              "    </tr>\n",
              "    <tr>\n",
              "      <th>798</th>\n",
              "      <td>799</td>\n",
              "      <td>0</td>\n",
              "      <td>3</td>\n",
              "      <td>Ibrahim Shawah, Mr. Yousseff</td>\n",
              "      <td>male</td>\n",
              "      <td>30.0</td>\n",
              "      <td>0</td>\n",
              "      <td>0</td>\n",
              "      <td>2685</td>\n",
              "      <td>7.2292</td>\n",
              "      <td>NaN</td>\n",
              "      <td>C</td>\n",
              "    </tr>\n",
              "    <tr>\n",
              "      <th>306</th>\n",
              "      <td>307</td>\n",
              "      <td>1</td>\n",
              "      <td>1</td>\n",
              "      <td>Fleming, Miss. Margaret</td>\n",
              "      <td>female</td>\n",
              "      <td>NaN</td>\n",
              "      <td>0</td>\n",
              "      <td>0</td>\n",
              "      <td>17421</td>\n",
              "      <td>110.8833</td>\n",
              "      <td>NaN</td>\n",
              "      <td>C</td>\n",
              "    </tr>\n",
              "    <tr>\n",
              "      <th>20</th>\n",
              "      <td>21</td>\n",
              "      <td>0</td>\n",
              "      <td>2</td>\n",
              "      <td>Fynney, Mr. Joseph J</td>\n",
              "      <td>male</td>\n",
              "      <td>35.0</td>\n",
              "      <td>0</td>\n",
              "      <td>0</td>\n",
              "      <td>239865</td>\n",
              "      <td>26.0000</td>\n",
              "      <td>NaN</td>\n",
              "      <td>S</td>\n",
              "    </tr>\n",
              "    <tr>\n",
              "      <th>768</th>\n",
              "      <td>769</td>\n",
              "      <td>0</td>\n",
              "      <td>3</td>\n",
              "      <td>Moran, Mr. Daniel J</td>\n",
              "      <td>male</td>\n",
              "      <td>NaN</td>\n",
              "      <td>1</td>\n",
              "      <td>0</td>\n",
              "      <td>371110</td>\n",
              "      <td>24.1500</td>\n",
              "      <td>NaN</td>\n",
              "      <td>Q</td>\n",
              "    </tr>\n",
              "    <tr>\n",
              "      <th>761</th>\n",
              "      <td>762</td>\n",
              "      <td>0</td>\n",
              "      <td>3</td>\n",
              "      <td>Nirva, Mr. Iisakki Antino Aijo</td>\n",
              "      <td>male</td>\n",
              "      <td>41.0</td>\n",
              "      <td>0</td>\n",
              "      <td>0</td>\n",
              "      <td>SOTON/O2 3101272</td>\n",
              "      <td>7.1250</td>\n",
              "      <td>NaN</td>\n",
              "      <td>S</td>\n",
              "    </tr>\n",
              "  </tbody>\n",
              "</table>\n",
              "</div>"
            ],
            "text/plain": [
              "     PassengerId  Survived  Pclass                                 Name  \\\n",
              "184          185         1       3  Kink-Heilmann, Miss. Luise Gretchen   \n",
              "174          175         0       1              Smith, Mr. James Clinch   \n",
              "77            78         0       3             Moutal, Mr. Rahamin Haim   \n",
              "590          591         0       3                 Rintamaki, Mr. Matti   \n",
              "207          208         1       3          Albimona, Mr. Nassef Cassem   \n",
              "798          799         0       3         Ibrahim Shawah, Mr. Yousseff   \n",
              "306          307         1       1              Fleming, Miss. Margaret   \n",
              "20            21         0       2                 Fynney, Mr. Joseph J   \n",
              "768          769         0       3                  Moran, Mr. Daniel J   \n",
              "761          762         0       3       Nirva, Mr. Iisakki Antino Aijo   \n",
              "\n",
              "        Sex   Age  SibSp  Parch             Ticket      Fare Cabin Embarked  \n",
              "184  female   4.0      0      2             315153   22.0250   NaN        S  \n",
              "174    male  56.0      0      0              17764   30.6958    A7        C  \n",
              "77     male   NaN      0      0             374746    8.0500   NaN        S  \n",
              "590    male  35.0      0      0  STON/O 2. 3101273    7.1250   NaN        S  \n",
              "207    male  26.0      0      0               2699   18.7875   NaN        C  \n",
              "798    male  30.0      0      0               2685    7.2292   NaN        C  \n",
              "306  female   NaN      0      0              17421  110.8833   NaN        C  \n",
              "20     male  35.0      0      0             239865   26.0000   NaN        S  \n",
              "768    male   NaN      1      0             371110   24.1500   NaN        Q  \n",
              "761    male  41.0      0      0   SOTON/O2 3101272    7.1250   NaN        S  "
            ]
          },
          "execution_count": 85,
          "metadata": {},
          "output_type": "execute_result"
        }
      ],
      "source": [
        "path = './dataset/'\n",
        "dataset_path = path + 'train.csv'\n",
        "df = pd.read_csv(dataset_path)\n",
        "df.sample(10) # 🕊️ head는 순서대로 출력하기 때문에 중요한 특징을 누락할 수 있어요."
      ]
    },
    {
      "cell_type": "code",
      "execution_count": 134,
      "metadata": {
        "colab": {
          "base_uri": "https://localhost:8080/"
        },
        "id": "OD3dGbZP6z_E",
        "outputId": "b9c137e1-5d41-45b0-9741-739802469f9d"
      },
      "outputs": [
        {
          "name": "stdout",
          "output_type": "stream",
          "text": [
            "info ====================================================================================================\n",
            "columns: PassengerId, Survived, Pclass, Name, Sex, Age, SibSp, Parch, Ticket, Fare, Cabin, Embarked, Family\n",
            "양적변수 > 연속형 : Fare\n",
            "양적변수 > 이산형 : Age, SibSp, Parch\n",
            "질적변수 > 명목형 : Sex, PassengerId, Survived, Ticket, Cabin, Embarked, Name\n",
            "질적변수 > 순서형 : Pclass\n",
            "- 'Age'에 177개의 누락된 값이 있습니다.\n",
            "- 'Cabin'은 687개의 누락된 값이 있습니다.\n",
            "- 'Embarked'에 2개의 누락된 값이 있습니다.\n",
            "- 질적변수의 자료형을 모두 Category로 변경해주었습니다.\n",
            "\n"
          ]
        }
      ],
      "source": [
        "#  사전작업 - 각 feature의 형태 파악\n",
        "\n",
        "result = \"\" # 🕊️ EDA 결과를 차곡차곡 저장해서 마지막에 출력해주려해요.\n",
        "\n",
        "info_result = 'info ' + '='*100 + '\\n' # 🕊️ result 변수는 최종 출력물만 넣기 위해 다른 변수를 선언했어요.\n",
        "\n",
        "info_result += \"columns: \"\n",
        "for col in df.columns.values:\n",
        "    info_result += f\"{col}, \"\n",
        "info_result = info_result[:-2] + '\\n'\n",
        "\n",
        "info_result += f\"양적변수 > 연속형 : Fare\\n\"\n",
        "var_num_con = ['Fare']\n",
        "info_result += f\"양적변수 > 이산형 : Age, SibSp, Parch\\n\"\n",
        "var_num_dis = ['Age', 'SibSp', 'Parch']\n",
        "info_result += f\"질적변수 > 명목형 : Sex, PassengerId, Survived, Ticket, Cabin, Embarked, Name\\n\"\n",
        "var_cat_non = ['Sex', 'PassengerId', 'Survived', 'Ticket', 'Cabin', 'Embarked', 'Name']\n",
        "info_result += f\"질적변수 > 순서형 : Pclass\\n\"\n",
        "var_cat_ord = ['Pclass']\n",
        "for col in ['Sex', 'PassengerId', 'Survived', 'Ticket', 'Cabin', 'Embarked', 'Name', 'Pclass']:\n",
        "    df[col] = df[col].astype('category')\n",
        "info_result += f\"- 'Age'에 177개의 누락된 값이 있습니다.\\n\"\n",
        "info_result += f\"- 'Cabin'은 687개의 누락된 값이 있습니다.\\n\"\n",
        "info_result += f\"- 'Embarked'에 2개의 누락된 값이 있습니다.\\n\"\n",
        "info_result += f\"- 질적변수의 자료형을 모두 Category로 변경해주었습니다.\\n\"\n",
        "\n",
        "print(info_result)"
      ]
    },
    {
      "cell_type": "code",
      "execution_count": 118,
      "metadata": {
        "colab": {
          "base_uri": "https://localhost:8080/",
          "height": 297
        },
        "id": "gu7OFlj3ObiN",
        "outputId": "27746fbb-af9d-4867-e162-63697bb3d496"
      },
      "outputs": [
        {
          "name": "stdout",
          "output_type": "stream",
          "text": [
            "variable ====================================================================================================\n",
            "파생변수 Family : 가족이 동승하였다면 1, 아니면 0으로 두었습니다.\n",
            "추가 파생변수는 task에 맞춰, 그리고 시각화 결과를 보고 추가하고자 합니다.\n",
            "\n"
          ]
        }
      ],
      "source": [
        "# 전처리 - 파생 변수의 고려\n",
        "\n",
        "var_result = 'variable ' + '='*100 + '\\n'\n",
        "\n",
        "df['Family'] = df.apply(lambda x: int(x.SibSp>0 and x.Parch>0), axis=1)\n",
        "var_result += \"파생변수 Family : 가족이 동승하였다면 1, 아니면 0으로 두었습니다.\\n\"\n",
        "var_result += \"추가 파생변수는 task에 맞춰, 그리고 시각화 결과를 보고 추가하고자 합니다.\\n\"\n",
        "\n",
        "print(var_result)"
      ]
    },
    {
      "cell_type": "code",
      "execution_count": 132,
      "metadata": {
        "id": "pN7xB5_ZOc10"
      },
      "outputs": [
        {
          "name": "stdout",
          "output_type": "stream",
          "text": [
            "missing ====================================================================================================\n",
            "'Age' 변수의 경우 목적 변수인 'Survived'에 영향을 미칠 것으로 기대하기 때문에 대체값을 사용하기보다 관련 분석 시 NaN값을 제외하는 방향으로 설계하였습니다.\n",
            "'Cabin' 변수 역시 마찬가지의 이유로 Unknown 카테고리를 새롭게 추가하여 결측값을 처리하였습니다. \n",
            "'Embarked' 변수의 경우 목적 변수인 'Survived'에 별 영향을 미치지 않을 것으로 기대하기 때문에 시각화 후 변수의 제거를 고려해보려 합니다.\n"
          ]
        }
      ],
      "source": [
        "# 전처리 - 결측치 처리\n",
        "\n",
        "missing_result = 'missing ' + '='*100 + '\\n'\n",
        "\n",
        "missing_result += f\"'Age' 변수의 경우 목적 변수인 'Survived'에 영향을 미칠 것으로 기대하기 때문에 대체값을 사용하기보다 관련 분석 시 NaN값을 제외하는 방향으로 설계하였습니다.\\n\"\n",
        "missing_result += f\"'Cabin' 변수 역시 마찬가지의 이유로 Unknown 카테고리를 새롭게 추가하여 결측값을 처리하였습니다. \\n\"\n",
        "df.Cabin = df.Cabin.cat.add_categories('Unknown')\n",
        "df.Cabin = df.Cabin.fillna('Unknown')\n",
        "missing_result += f\"'Embarked' 변수의 경우 목적 변수인 'Survived'에 별 영향을 미치지 않을 것으로 기대하기 때문에 시각화 후 변수의 제거를 고려해보려 합니다.\"\n",
        "\n",
        "print(missing_result)"
      ]
    },
    {
      "cell_type": "code",
      "execution_count": 135,
      "metadata": {},
      "outputs": [
        {
          "name": "stdout",
          "output_type": "stream",
          "text": [
            "info ====================================================================================================\n",
            "columns: PassengerId, Survived, Pclass, Name, Sex, Age, SibSp, Parch, Ticket, Fare, Cabin, Embarked, Family\n",
            "양적변수 > 연속형 : Fare\n",
            "양적변수 > 이산형 : Age, SibSp, Parch\n",
            "질적변수 > 명목형 : Sex, PassengerId, Survived, Ticket, Cabin, Embarked, Name\n",
            "질적변수 > 순서형 : Pclass\n",
            "- 'Age'에 177개의 누락된 값이 있습니다.\n",
            "- 'Cabin'은 687개의 누락된 값이 있습니다.\n",
            "- 'Embarked'에 2개의 누락된 값이 있습니다.\n",
            "- 질적변수의 자료형을 모두 Category로 변경해주었습니다.\n",
            "\n",
            "variable ====================================================================================================\n",
            "파생변수 Family : 가족이 동승하였다면 1, 아니면 0으로 두었습니다.\n",
            "추가 파생변수는 task에 맞춰, 그리고 시각화 결과를 보고 추가하고자 합니다.\n",
            "\n",
            "missing ====================================================================================================\n",
            "'Age' 변수의 경우 목적 변수인 'Survived'에 영향을 미칠 것으로 기대하기 때문에 대체값을 사용하기보다 관련 분석 시 NaN값을 제외하는 방향으로 설계하였습니다.\n",
            "'Cabin' 변수 역시 마찬가지의 이유로 Unknown 카테고리를 새롭게 추가하여 결측값을 처리하였습니다. \n",
            "'Embarked' 변수의 경우 목적 변수인 'Survived'에 별 영향을 미치지 않을 것으로 기대하기 때문에 시각화 후 변수의 제거를 고려해보려 합니다.\n"
          ]
        }
      ],
      "source": [
        "# print result\n",
        "\n",
        "result = f\"{info_result}\\n{var_result}\\n{missing_result}\"\n",
        "\n",
        "print(result)"
      ]
    },
    {
      "cell_type": "code",
      "execution_count": 140,
      "metadata": {},
      "outputs": [
        {
          "name": "stdout",
          "output_type": "stream",
          "text": [
            "<class 'pandas.core.frame.DataFrame'>\n",
            "RangeIndex: 891 entries, 0 to 890\n",
            "Data columns (total 13 columns):\n",
            " #   Column       Non-Null Count  Dtype   \n",
            "---  ------       --------------  -----   \n",
            " 0   PassengerId  891 non-null    category\n",
            " 1   Survived     891 non-null    category\n",
            " 2   Pclass       891 non-null    category\n",
            " 3   Name         891 non-null    category\n",
            " 4   Sex          891 non-null    category\n",
            " 5   Age          714 non-null    float64 \n",
            " 6   SibSp        891 non-null    int64   \n",
            " 7   Parch        891 non-null    int64   \n",
            " 8   Ticket       891 non-null    category\n",
            " 9   Fare         891 non-null    float64 \n",
            " 10  Cabin        891 non-null    category\n",
            " 11  Embarked     889 non-null    category\n",
            " 12  Family       891 non-null    int64   \n",
            "dtypes: category(8), float64(2), int64(3)\n",
            "memory usage: 65.8 KB\n",
            "info ====================================================================================================\n",
            "columns: PassengerId, Survived, Pclass, Name, Sex, Age, SibSp, Parch, Ticket, Fare, Cabin, Embarked, Family\n",
            "양적변수 > 연속형 : Fare\n",
            "양적변수 > 이산형 : Age, SibSp, Parch\n",
            "질적변수 > 명목형 : Sex, PassengerId, Survived, Ticket, Cabin, Embarked, Name\n",
            "질적변수 > 순서형 : Pclass\n",
            "- 'Age'에 177개의 누락된 값이 있습니다.\n",
            "- 'Cabin'은 687개의 누락된 값이 있습니다.\n",
            "- 'Embarked'에 2개의 누락된 값이 있습니다.\n",
            "- 질적변수의 자료형을 모두 Category로 변경해주었습니다.\n",
            "\n",
            "variable ====================================================================================================\n",
            "파생변수 Family : 가족이 동승하였다면 1, 아니면 0으로 두었습니다.\n",
            "추가 파생변수는 task에 맞춰, 그리고 시각화 결과를 보고 추가하고자 합니다.\n",
            "\n",
            "missing ====================================================================================================\n",
            "'Age' 변수의 경우 목적 변수인 'Survived'에 영향을 미칠 것으로 기대하기 때문에 대체값을 사용하기보다 관련 분석 시 NaN값을 제외하는 방향으로 설계하였습니다.\n",
            "'Cabin' 변수 역시 마찬가지의 이유로 Unknown 카테고리를 새롭게 추가하여 결측값을 처리하였습니다. \n",
            "'Embarked' 변수의 경우 목적 변수인 'Survived'에 별 영향을 미치지 않을 것으로 기대하기 때문에 시각화 후 변수의 제거를 고려해보려 합니다.\n"
          ]
        }
      ],
      "source": [
        "# publish dataset and EDA result\n",
        "\n",
        "import pickle\n",
        "\n",
        "with open('./dataset/train_after_eda.pkl', 'wb') as f:\n",
        "    pickle.dump(df, f)\n",
        "\n",
        "with open('./dataset/train_after_eda.pkl', 'rb') as f:\n",
        "    pickle.load(f).info()\n",
        "\n",
        "with open('./dataset/eda_result.txt', 'w') as f:\n",
        "    f.write(result)\n",
        "\n",
        "with open('./dataset/eda_result.txt', 'r') as f:\n",
        "    print(f.read())"
      ]
    }
  ],
  "metadata": {
    "colab": {
      "provenance": []
    },
    "kernelspec": {
      "display_name": "Python 3",
      "name": "python3"
    },
    "language_info": {
      "codemirror_mode": {
        "name": "ipython",
        "version": 3
      },
      "file_extension": ".py",
      "mimetype": "text/x-python",
      "name": "python",
      "nbconvert_exporter": "python",
      "pygments_lexer": "ipython3",
      "version": "3.9.17"
    }
  },
  "nbformat": 4,
  "nbformat_minor": 0
}
